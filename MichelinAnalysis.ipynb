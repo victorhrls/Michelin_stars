{
 "cells": [
  {
   "cell_type": "code",
   "execution_count": 3,
   "metadata": {},
   "outputs": [],
   "source": [
    "# Importing libraries\n",
    "\n",
    "from kaggle.api.kaggle_api_extended import KaggleApi\n",
    "import numpy as np\n",
    "import seaborn as sns \n",
    "import matplotlib as mpl\n",
    "import pandas as pd"
   ]
  },
  {
   "cell_type": "code",
   "execution_count": 1,
   "metadata": {},
   "outputs": [
    {
     "name": "stdout",
     "output_type": "stream",
     "text": [
      "Dataset URL: https://www.kaggle.com/datasets/ngshiheng/michelin-guide-restaurants-2021\n"
     ]
    }
   ],
   "source": [
    "# Downloading the Dataset\n",
    "\n",
    "api = KaggleApi()\n",
    "api.authenticate()\n",
    "\n",
    "api.dataset_download_files(\n",
    "    \"ngshiheng/michelin-guide-restaurants-2021\",\n",
    "    path=\".\",   \n",
    "    unzip=True \n",
    ")"
   ]
  },
  {
   "cell_type": "code",
   "execution_count": 6,
   "metadata": {},
   "outputs": [
    {
     "data": {
      "text/html": [
       "<div>\n",
       "<style scoped>\n",
       "    .dataframe tbody tr th:only-of-type {\n",
       "        vertical-align: middle;\n",
       "    }\n",
       "\n",
       "    .dataframe tbody tr th {\n",
       "        vertical-align: top;\n",
       "    }\n",
       "\n",
       "    .dataframe thead th {\n",
       "        text-align: right;\n",
       "    }\n",
       "</style>\n",
       "<table border=\"1\" class=\"dataframe\">\n",
       "  <thead>\n",
       "    <tr style=\"text-align: right;\">\n",
       "      <th></th>\n",
       "      <th>Name</th>\n",
       "      <th>Address</th>\n",
       "      <th>Location</th>\n",
       "      <th>Price</th>\n",
       "      <th>Cuisine</th>\n",
       "      <th>Longitude</th>\n",
       "      <th>Latitude</th>\n",
       "      <th>PhoneNumber</th>\n",
       "      <th>Url</th>\n",
       "      <th>WebsiteUrl</th>\n",
       "      <th>Award</th>\n",
       "      <th>GreenStar</th>\n",
       "      <th>FacilitiesAndServices</th>\n",
       "      <th>Description</th>\n",
       "    </tr>\n",
       "  </thead>\n",
       "  <tbody>\n",
       "    <tr>\n",
       "      <th>0</th>\n",
       "      <td>ES:SENZ</td>\n",
       "      <td>Mietenkamer Straße 65, Grassau, 83224, Germany</td>\n",
       "      <td>Grassau, Germany</td>\n",
       "      <td>€€€€</td>\n",
       "      <td>Creative, Modern Cuisine</td>\n",
       "      <td>12.465618</td>\n",
       "      <td>47.785630</td>\n",
       "      <td>4.986414e+11</td>\n",
       "      <td>https://guide.michelin.com/en/bayern/grassau/r...</td>\n",
       "      <td>https://www.das-achental.com/</td>\n",
       "      <td>3 Stars</td>\n",
       "      <td>0</td>\n",
       "      <td>Air conditioning,Car park,Interesting wine list</td>\n",
       "      <td>Here in the restaurant of Das Achental hotel, ...</td>\n",
       "    </tr>\n",
       "    <tr>\n",
       "      <th>1</th>\n",
       "      <td>Tohru in der Schreiberei</td>\n",
       "      <td>Burgstraße 5, Munich, 80331, Germany</td>\n",
       "      <td>Munich, Germany</td>\n",
       "      <td>€€€€</td>\n",
       "      <td>Modern Cuisine, Japanese Contemporary</td>\n",
       "      <td>11.577475</td>\n",
       "      <td>48.137597</td>\n",
       "      <td>4.989215e+11</td>\n",
       "      <td>https://guide.michelin.com/en/bayern/mnchen/re...</td>\n",
       "      <td>https://schreiberei-muc.de/</td>\n",
       "      <td>3 Stars</td>\n",
       "      <td>0</td>\n",
       "      <td>Interesting wine list,Notable sake list</td>\n",
       "      <td>It is absolutely worth climbing the 23 steps o...</td>\n",
       "    </tr>\n",
       "    <tr>\n",
       "      <th>2</th>\n",
       "      <td>Schwarzwaldstube</td>\n",
       "      <td>Tonbachstraße 237, Baiersbronn, 72270, Germany</td>\n",
       "      <td>Baiersbronn, Germany</td>\n",
       "      <td>€€€€</td>\n",
       "      <td>Classic French, Creative</td>\n",
       "      <td>8.358280</td>\n",
       "      <td>48.536911</td>\n",
       "      <td>4.974425e+11</td>\n",
       "      <td>https://guide.michelin.com/en/baden-wurttember...</td>\n",
       "      <td>https://www.traube-tonbach.de/restaurants-bar/...</td>\n",
       "      <td>3 Stars</td>\n",
       "      <td>0</td>\n",
       "      <td>Air conditioning,Car park,Great view,Interesti...</td>\n",
       "      <td>Schwarzwaldstube, the flagship restaurant of t...</td>\n",
       "    </tr>\n",
       "  </tbody>\n",
       "</table>\n",
       "</div>"
      ],
      "text/plain": [
       "                       Name                                         Address  \\\n",
       "0                   ES:SENZ  Mietenkamer Straße 65, Grassau, 83224, Germany   \n",
       "1  Tohru in der Schreiberei            Burgstraße 5, Munich, 80331, Germany   \n",
       "2          Schwarzwaldstube  Tonbachstraße 237, Baiersbronn, 72270, Germany   \n",
       "\n",
       "               Location Price                                Cuisine  \\\n",
       "0      Grassau, Germany  €€€€               Creative, Modern Cuisine   \n",
       "1       Munich, Germany  €€€€  Modern Cuisine, Japanese Contemporary   \n",
       "2  Baiersbronn, Germany  €€€€               Classic French, Creative   \n",
       "\n",
       "   Longitude   Latitude   PhoneNumber  \\\n",
       "0  12.465618  47.785630  4.986414e+11   \n",
       "1  11.577475  48.137597  4.989215e+11   \n",
       "2   8.358280  48.536911  4.974425e+11   \n",
       "\n",
       "                                                 Url  \\\n",
       "0  https://guide.michelin.com/en/bayern/grassau/r...   \n",
       "1  https://guide.michelin.com/en/bayern/mnchen/re...   \n",
       "2  https://guide.michelin.com/en/baden-wurttember...   \n",
       "\n",
       "                                          WebsiteUrl    Award  GreenStar  \\\n",
       "0                      https://www.das-achental.com/  3 Stars          0   \n",
       "1                        https://schreiberei-muc.de/  3 Stars          0   \n",
       "2  https://www.traube-tonbach.de/restaurants-bar/...  3 Stars          0   \n",
       "\n",
       "                               FacilitiesAndServices  \\\n",
       "0    Air conditioning,Car park,Interesting wine list   \n",
       "1            Interesting wine list,Notable sake list   \n",
       "2  Air conditioning,Car park,Great view,Interesti...   \n",
       "\n",
       "                                         Description  \n",
       "0  Here in the restaurant of Das Achental hotel, ...  \n",
       "1  It is absolutely worth climbing the 23 steps o...  \n",
       "2  Schwarzwaldstube, the flagship restaurant of t...  "
      ]
     },
     "execution_count": 6,
     "metadata": {},
     "output_type": "execute_result"
    }
   ],
   "source": [
    "data = pd.read_csv('michelin_my_maps.csv')\n",
    "data.head(3)"
   ]
  },
  {
   "cell_type": "markdown",
   "metadata": {},
   "source": [
    "### Looks like there are some columns that will have no value for the analysis \n",
    "### Such as Url, WebsiteUrl,Address and PhoneNumber. Thus ,i will drop them"
   ]
  },
  {
   "cell_type": "code",
   "execution_count": 13,
   "metadata": {},
   "outputs": [],
   "source": [
    "data = data.drop(['Url','WebsiteUrl','Address','PhoneNumber'],axis = 1)"
   ]
  },
  {
   "cell_type": "code",
   "execution_count": 16,
   "metadata": {},
   "outputs": [
    {
     "data": {
      "text/plain": [
       "Award\n",
       "Selected Restaurants    11243\n",
       "Bib Gourmand             3414\n",
       "1 Star                   3097\n",
       "2 Stars                   511\n",
       "3 Stars                   157\n",
       "Name: count, dtype: int64"
      ]
     },
     "execution_count": 16,
     "metadata": {},
     "output_type": "execute_result"
    }
   ],
   "source": [
    "data['Award'].value_counts()"
   ]
  },
  {
   "cell_type": "markdown",
   "metadata": {},
   "source": [
    "### Hence, this guide lists 11,243 restaurants with the following classifications:\n",
    "\n",
    "- **Bib Gourmand (3,414):** Restaurants recognized for good quality and good value, but **without Michelin stars**.  \n",
    "- **1 Star (3,097):** “A very good restaurant in its category.”  \n",
    "- **2 Stars (511):** “Excellent cooking, worth a detour.”  \n",
    "- **3 Stars (157):** “Exceptional cuisine, worth a special journey.”"
   ]
  },
  {
   "cell_type": "markdown",
   "metadata": {},
   "source": [
    "### "
   ]
  },
  {
   "cell_type": "code",
   "execution_count": 14,
   "metadata": {},
   "outputs": [
    {
     "data": {
      "text/plain": [
       "Location\n",
       "Tokyo, Japan                       551\n",
       "Paris, France                      466\n",
       "London, United Kingdom             349\n",
       "Singapore                          299\n",
       "New York, USA                      265\n",
       "                                  ... \n",
       "Saint-Laurent-sur-Saône, France      1\n",
       "Cliousclat, France                   1\n",
       "Parçay-Meslay, France                1\n",
       "Villecresnes, France                 1\n",
       "San Roque, Spain                     1\n",
       "Name: count, Length: 5847, dtype: int64"
      ]
     },
     "execution_count": 14,
     "metadata": {},
     "output_type": "execute_result"
    }
   ],
   "source": [
    "data['Location'].value_counts()"
   ]
  }
 ],
 "metadata": {
  "kernelspec": {
   "display_name": "Python 3",
   "language": "python",
   "name": "python3"
  },
  "language_info": {
   "codemirror_mode": {
    "name": "ipython",
    "version": 3
   },
   "file_extension": ".py",
   "mimetype": "text/x-python",
   "name": "python",
   "nbconvert_exporter": "python",
   "pygments_lexer": "ipython3",
   "version": "3.12.2"
  }
 },
 "nbformat": 4,
 "nbformat_minor": 2
}
